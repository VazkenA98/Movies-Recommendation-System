{
 "cells": [
  {
   "cell_type": "code",
   "execution_count": 18,
   "metadata": {
    "id": "SOP8G-jbxrkF"
   },
   "outputs": [],
   "source": [
    "from datetime import datetime\n",
    "\n",
    "import pandas as pd\n",
    "import numpy as np\n",
    "import matplotlib\n",
    "matplotlib.use('nbagg')\n",
    "\n",
    "import matplotlib.pyplot as plt\n",
    "plt.rcParams.update({'figure.max_open_warning': 0})\n",
    "\n",
    "import seaborn as sns\n",
    "sns.set_style('whitegrid')\n",
    "import os\n",
    "from scipy import sparse\n",
    "from scipy.sparse import csr_matrix\n",
    "\n",
    "from sklearn.decomposition import TruncatedSVD\n",
    "from sklearn.metrics.pairwise import cosine_similarity\n",
    "import random"
   ]
  },
  {
   "cell_type": "markdown",
   "metadata": {
    "id": "uPz7RGR_xrkM"
   },
   "source": [
    " "
   ]
  },
  {
   "cell_type": "markdown",
   "metadata": {
    "id": "lVyeqDMqxrkO"
   },
   "source": [
    "## Data Loading"
   ]
  },
  {
   "cell_type": "code",
   "execution_count": 19,
   "metadata": {},
   "outputs": [],
   "source": [
    "globalstart = datetime.now()"
   ]
  },
  {
   "cell_type": "code",
   "execution_count": 29,
   "metadata": {
    "id": "ijAmOSzsxrkS",
    "outputId": "70c17ed1-22c7-4938-ccec-26af46e51fa6"
   },
   "outputs": [
    {
     "name": "stdout",
     "output_type": "stream",
     "text": [
      "Reading ratings from dataset/combined_data_1.txt...\n",
      "Done.\n",
      "\n",
      "Reading ratings from dataset/combined_data_2.txt...\n",
      "Done.\n",
      "\n",
      "Reading ratings from dataset/combined_data_3.txt...\n",
      "Done.\n",
      "\n",
      "Reading ratings from dataset/combined_data_4.txt...\n",
      "Done.\n",
      "\n",
      "Time taken : 0:01:51.486069\n"
     ]
    }
   ],
   "source": [
    "start = datetime.now()\n",
    "if not os.path.isfile('data.csv'):\n",
    "   \n",
    "    data = open('data.csv', mode='w')\n",
    "    \n",
    "    row = list()\n",
    "    files=['dataset/combined_data_1.txt','dataset/combined_data_2.txt', \n",
    "           'dataset/combined_data_3.txt', 'dataset/combined_data_4.txt']\n",
    "    for file in files:\n",
    "        print(\"Reading ratings from {}...\".format(file))\n",
    "        with open(file) as f:\n",
    "            for line in f: \n",
    "                del row[:] \n",
    "                line = line.strip()\n",
    "                if line.endswith(':'):\n",
    "                  \n",
    "                    movie_id = line.replace(':', '')\n",
    "                else:\n",
    "                    row = [x for x in line.split(',')]\n",
    "                    row.insert(0, movie_id)\n",
    "                    data.write(','.join(row))\n",
    "                    data.write('\\n')\n",
    "        print(\"Done.\\n\")\n",
    "    data.close()\n",
    "print('Time taken :', datetime.now() - start)"
   ]
  },
  {
   "cell_type": "markdown",
   "metadata": {
    "id": "TWny3evQxrkb"
   },
   "source": [
    " "
   ]
  },
  {
   "cell_type": "code",
   "execution_count": 30,
   "metadata": {
    "id": "HecSc3oXxrkd",
    "outputId": "8a5b70c4-ba43-4ecf-bbb3-e711aa78855a"
   },
   "outputs": [
    {
     "name": "stdout",
     "output_type": "stream",
     "text": [
      "creating the dataframe from data.csv file..\n",
      "Done.\n",
      "\n",
      "Sorting the dataframe by date..\n",
      "Done..\n"
     ]
    }
   ],
   "source": [
    "print(\"creating the dataframe from data.csv file..\")\n",
    "df = pd.read_csv('data.csv', sep=',', \n",
    "                       names=['movie', 'user','rating','date'])\n",
    "df.date = pd.to_datetime(df.date)\n",
    "print('Done.\\n')\n",
    "\n",
    "#arranging the ratings according to time.\n",
    "print('Sorting the dataframe by date..')\n",
    "df.sort_values(by='date', inplace=True)\n",
    "print('Done..')"
   ]
  },
  {
   "cell_type": "code",
   "execution_count": 31,
   "metadata": {},
   "outputs": [
    {
     "data": {
      "text/plain": [
       "(100480507, 4)"
      ]
     },
     "execution_count": 31,
     "metadata": {},
     "output_type": "execute_result"
    }
   ],
   "source": [
    "df.shape"
   ]
  },
  {
   "cell_type": "code",
   "execution_count": 32,
   "metadata": {
    "id": "GkhBmOCoxrkk",
    "outputId": "d4219b8c-ab61-4562-f521-8e7563295d2f"
   },
   "outputs": [
    {
     "data": {
      "text/html": [
       "<div>\n",
       "<style scoped>\n",
       "    .dataframe tbody tr th:only-of-type {\n",
       "        vertical-align: middle;\n",
       "    }\n",
       "\n",
       "    .dataframe tbody tr th {\n",
       "        vertical-align: top;\n",
       "    }\n",
       "\n",
       "    .dataframe thead th {\n",
       "        text-align: right;\n",
       "    }\n",
       "</style>\n",
       "<table border=\"1\" class=\"dataframe\">\n",
       "  <thead>\n",
       "    <tr style=\"text-align: right;\">\n",
       "      <th></th>\n",
       "      <th>movie</th>\n",
       "      <th>user</th>\n",
       "      <th>rating</th>\n",
       "      <th>date</th>\n",
       "    </tr>\n",
       "  </thead>\n",
       "  <tbody>\n",
       "    <tr>\n",
       "      <th>56431994</th>\n",
       "      <td>10341</td>\n",
       "      <td>510180</td>\n",
       "      <td>4</td>\n",
       "      <td>1999-11-11</td>\n",
       "    </tr>\n",
       "    <tr>\n",
       "      <th>9056171</th>\n",
       "      <td>1798</td>\n",
       "      <td>510180</td>\n",
       "      <td>5</td>\n",
       "      <td>1999-11-11</td>\n",
       "    </tr>\n",
       "    <tr>\n",
       "      <th>58698779</th>\n",
       "      <td>10774</td>\n",
       "      <td>510180</td>\n",
       "      <td>3</td>\n",
       "      <td>1999-11-11</td>\n",
       "    </tr>\n",
       "    <tr>\n",
       "      <th>48101611</th>\n",
       "      <td>8651</td>\n",
       "      <td>510180</td>\n",
       "      <td>2</td>\n",
       "      <td>1999-11-11</td>\n",
       "    </tr>\n",
       "    <tr>\n",
       "      <th>81893208</th>\n",
       "      <td>14660</td>\n",
       "      <td>510180</td>\n",
       "      <td>2</td>\n",
       "      <td>1999-11-11</td>\n",
       "    </tr>\n",
       "  </tbody>\n",
       "</table>\n",
       "</div>"
      ],
      "text/plain": [
       "          movie    user  rating       date\n",
       "56431994  10341  510180       4 1999-11-11\n",
       "9056171    1798  510180       5 1999-11-11\n",
       "58698779  10774  510180       3 1999-11-11\n",
       "48101611   8651  510180       2 1999-11-11\n",
       "81893208  14660  510180       2 1999-11-11"
      ]
     },
     "execution_count": 32,
     "metadata": {},
     "output_type": "execute_result"
    }
   ],
   "source": [
    "df.head()"
   ]
  },
  {
   "cell_type": "code",
   "execution_count": 33,
   "metadata": {
    "id": "yc3bmsOKxrkr",
    "outputId": "0268fee8-1677-4e0f-c7cf-1c9753ce804c",
    "scrolled": true
   },
   "outputs": [
    {
     "data": {
      "text/plain": [
       "count    1.004805e+08\n",
       "mean     3.604290e+00\n",
       "std      1.085219e+00\n",
       "min      1.000000e+00\n",
       "25%      3.000000e+00\n",
       "50%      4.000000e+00\n",
       "75%      4.000000e+00\n",
       "max      5.000000e+00\n",
       "Name: rating, dtype: float64"
      ]
     },
     "execution_count": 33,
     "metadata": {},
     "output_type": "execute_result"
    }
   ],
   "source": [
    "df.describe()['rating']"
   ]
  },
  {
   "cell_type": "markdown",
   "metadata": {
    "id": "O6Jh9hMUxrky"
   },
   "source": [
    "### Checking for NaN values"
   ]
  },
  {
   "cell_type": "code",
   "execution_count": 35,
   "metadata": {
    "id": "2RX0XUYGxrkz",
    "outputId": "cbf3cf18-3a40-447b-f212-946b5dac3178",
    "scrolled": false
   },
   "outputs": [
    {
     "name": "stdout",
     "output_type": "stream",
     "text": [
      "No of Nan values in our dataframe :  0\n"
     ]
    }
   ],
   "source": [
    "print(\"No of Nan values in our dataframe : \", sum(df.isnull().any()))"
   ]
  },
  {
   "cell_type": "markdown",
   "metadata": {
    "id": "x3o4ln-4xrk7"
   },
   "source": [
    " "
   ]
  },
  {
   "cell_type": "markdown",
   "metadata": {
    "id": "QofEYR63xrk9"
   },
   "source": [
    "### Removing Duplicates"
   ]
  },
  {
   "cell_type": "code",
   "execution_count": 36,
   "metadata": {
    "id": "wDHFQBfCxrlA",
    "outputId": "30c71def-12a3-4030-8106-4c4fe9f45216"
   },
   "outputs": [
    {
     "name": "stdout",
     "output_type": "stream",
     "text": [
      "There are 0 duplicate rating entries in the data..\n"
     ]
    }
   ],
   "source": [
    "dup_bool = df.duplicated(['movie','user','rating'])\n",
    "dups = sum(dup_bool)\n",
    "print(\"There are {} duplicate rating entries in the data..\".format(dups))"
   ]
  },
  {
   "cell_type": "markdown",
   "metadata": {
    "id": "06qT7qvuxrlL"
   },
   "source": [
    " "
   ]
  },
  {
   "cell_type": "markdown",
   "metadata": {
    "id": "OhrBQacmxrlM"
   },
   "source": [
    "### Basic Statistics"
   ]
  },
  {
   "cell_type": "code",
   "execution_count": 12,
   "metadata": {
    "id": "Gq66viptxrlP",
    "outputId": "44fa5c2d-16e1-47e2-afda-cf485ec44d74"
   },
   "outputs": [
    {
     "name": "stdout",
     "output_type": "stream",
     "text": [
      "Total data \n",
      "--------------------------------------------------\n",
      "\n",
      "Total no of ratings : 100480507\n",
      "Total No of Users   : 480189\n",
      "Total No of movies  : 17770\n"
     ]
    }
   ],
   "source": [
    "print(\"Total data \")\n",
    "print(\"-\"*50)\n",
    "print(\"\\nTotal no of ratings :\",df.shape[0])\n",
    "print(\"Total No of Users   :\", len(np.unique(df.user)))\n",
    "print(\"Total No of movies  :\", len(np.unique(df.movie)))"
   ]
  },
  {
   "cell_type": "markdown",
   "metadata": {
    "id": "FIduSZiexrlW"
   },
   "source": [
    "## Spliting data into Train and Test (80:20)"
   ]
  },
  {
   "cell_type": "code",
   "execution_count": 37,
   "metadata": {
    "id": "jpT2WRQjxrlY"
   },
   "outputs": [],
   "source": [
    "if not os.path.isfile('train.csv'):\n",
    "    \n",
    "    df.iloc[:int(df.shape[0]*0.80)].to_csv(\"train.csv\", index=False)\n",
    "\n",
    "if not os.path.isfile('test.csv'):\n",
    "   \n",
    "    df.iloc[int(df.shape[0]*0.80):].to_csv(\"test.csv\", index=False)"
   ]
  },
  {
   "cell_type": "code",
   "execution_count": 40,
   "metadata": {},
   "outputs": [
    {
     "name": "stdout",
     "output_type": "stream",
     "text": [
      "Total Time taken : 0:22:50.611656\n"
     ]
    }
   ],
   "source": [
    "print('Total Time taken :', datetime.now() - globalstart)"
   ]
  },
  {
   "cell_type": "code",
   "execution_count": null,
   "metadata": {},
   "outputs": [],
   "source": []
  }
 ],
 "metadata": {
  "colab": {
   "collapsed_sections": [],
   "name": "Netflix_Movie.ipynb",
   "provenance": []
  },
  "kernelspec": {
   "display_name": "Python 3",
   "language": "python",
   "name": "python3"
  },
  "language_info": {
   "codemirror_mode": {
    "name": "ipython",
    "version": 3
   },
   "file_extension": ".py",
   "mimetype": "text/x-python",
   "name": "python",
   "nbconvert_exporter": "python",
   "pygments_lexer": "ipython3",
   "version": "3.8.8"
  }
 },
 "nbformat": 4,
 "nbformat_minor": 1
}
